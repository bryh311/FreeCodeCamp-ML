{
  "cells": [
    {
      "cell_type": "markdown",
      "metadata": {
        "id": "view-in-github",
        "colab_type": "text"
      },
      "source": [
        "<a href=\"https://colab.research.google.com/github/bryh311/FreeCodeCamp-ML/blob/main/bryce_fcc_sms_text_classification.ipynb\" target=\"_parent\"><img src=\"https://colab.research.google.com/assets/colab-badge.svg\" alt=\"Open In Colab\"/></a>"
      ]
    },
    {
      "cell_type": "code",
      "execution_count": null,
      "metadata": {
        "id": "8RZOuS9LWQvv"
      },
      "outputs": [],
      "source": [
        "# import libraries\n",
        "try:\n",
        "  # %tensorflow_version only exists in Colab.\n",
        "  !pip install tf-nightly\n",
        "except Exception:\n",
        "  pass\n",
        "import tensorflow as tf\n",
        "import pandas as pd\n",
        "from tensorflow import keras\n",
        "!pip install tensorflow-datasets\n",
        "import tensorflow_datasets as tfds\n",
        "import numpy as np\n",
        "import matplotlib.pyplot as plt\n",
        "import string\n",
        "import re\n",
        "from keras.preprocessing import sequence\n",
        "\n",
        "print(tf.__version__)"
      ]
    },
    {
      "cell_type": "code",
      "execution_count": null,
      "metadata": {
        "id": "lMHwYXHXCar3"
      },
      "outputs": [],
      "source": [
        "# get data files\n",
        "!wget https://cdn.freecodecamp.org/project-data/sms/train-data.tsv\n",
        "!wget https://cdn.freecodecamp.org/project-data/sms/valid-data.tsv\n",
        "\n",
        "train_file_path = \"train-data.tsv\"\n",
        "test_file_path = \"valid-data.tsv\""
      ]
    },
    {
      "cell_type": "code",
      "execution_count": null,
      "metadata": {
        "id": "g_h508FEClxO"
      },
      "outputs": [],
      "source": [
        "BUFFER_SIZE = 1000\n",
        "BATCH_SIZE = 32\n",
        "MAX_LEN = 250\n",
        "\n",
        "# I took a lot of this from https://saturncloud.io/blog/how-to-convert-pandas-dataframes-to-tensorflow-batchdatasets-for-nlp/\n",
        "\n",
        "def preprocess(text):\n",
        "  text = text.translate(str.maketrans('', '', string.punctuation))\n",
        "  text = text.lower()\n",
        "  words = re.findall(r'\\b\\w+\\b', text)\n",
        "  return words\n",
        "\n",
        "# read data into dataframes and change ham/spam\n",
        "train_df = pd.read_csv(train_file_path, sep='\\t')\n",
        "train_df.columns = ['label', 'text']\n",
        "train_df['label'] = train_df['label'].astype('category').cat.codes\n",
        "train_df['text'] = train_df['text'].apply(preprocess)\n",
        "\n",
        "test_df = pd.read_csv(test_file_path, sep='\\t')\n",
        "test_df.columns = ['label', 'text']\n",
        "test_df['label'] = test_df['label'].astype('category').cat.codes\n",
        "test_df['text'] = test_df['text'].apply(preprocess)\n",
        "\n",
        "vocab = set()\n",
        "\n",
        "for text in train_df['text']:\n",
        "  vocab.update(text)\n",
        "\n",
        "for text in test_df['text']:\n",
        "  vocab.update(text)\n",
        "\n",
        "word2idx = {}\n",
        "\n",
        "for i, word in enumerate(vocab):\n",
        "  word2idx[word] = i\n",
        "\n",
        "VOCAB_SIZE = len(vocab) + 1\n",
        "\n",
        "train_df['text'] = train_df['text'].apply(lambda x: [word2idx[word] for word in x])\n",
        "test_df['text'] = test_df['text'].apply(lambda x: [word2idx[word] for word in x])\n",
        "\n",
        "#train_label = train_df.pop('label')\n",
        "#test_label = test_df.pop('label')\n",
        "\n",
        "#train_dataset = tf.data.Dataset.from_tensor_slices((train_df['text'].values, train_df['label'].values))\n",
        "#test_dataset = tf.data.Dataset.from_tensor_slices((test_df['text'].values, test_df['label'].values))\n",
        "\n",
        "for i, arr in enumerate(train_df['text']):\n",
        "  train_df['text'][i] += [0] * (MAX_LEN - len(train_df['text'][i]))\n",
        "  train_df['text'][i] = np.array(train_df['text'][i])\n",
        "\n",
        "for i, arr in enumerate(test_df['text']):\n",
        "  test_df['text'][i] += [0] * (MAX_LEN - len(test_df['text'][i]))\n",
        "  test_df['text'][i] = np.array(test_df['text'][i])\n",
        "\n",
        "train_dataset = tf.data.Dataset.from_tensor_slices((np.stack(train_df['text'].values), train_df['label'].values))\n",
        "test_dataset = tf.data.Dataset.from_tensor_slices((np.stack(test_df['text'].values), test_df['label'].values))"
      ]
    },
    {
      "cell_type": "code",
      "source": [],
      "metadata": {
        "id": "jol5WRlqldje"
      },
      "execution_count": null,
      "outputs": []
    },
    {
      "cell_type": "code",
      "source": [
        "batch_size = 32\n",
        "train_dataset = train_dataset.batch(batch_size)\n",
        "train_dataset = train_dataset.shuffle(buffer_size=len(train_df))"
      ],
      "metadata": {
        "id": "1rPU5HxzApg2"
      },
      "execution_count": null,
      "outputs": []
    },
    {
      "cell_type": "code",
      "execution_count": null,
      "metadata": {
        "id": "zOMKywn4zReN"
      },
      "outputs": [],
      "source": [
        "model = tf.keras.Sequential([\n",
        "    tf.keras.layers.Embedding(VOCAB_SIZE, 24),\n",
        "    tf.keras.layers.GlobalAveragePooling1D(),\n",
        "    tf.keras.layers.Dense(24, activation='relu'),\n",
        "    tf.keras.layers.Dropout(0.2),\n",
        "    tf.keras.layers.Dense(1, activation='sigmoid')\n",
        "])\n",
        "def loss(labels, logits):\n",
        "  return tf.keras.losses.sparse_categorical_crossentropy(labels, logits, from_logits=True)\n",
        "\n",
        "model.compile(loss=\"binary_crossentropy\",optimizer=\"adam\", metrics=[\"accuracy\"])"
      ]
    },
    {
      "cell_type": "code",
      "source": [
        "#history = model.fit(np.stack(train_df['text'].values), train_df['label'], epochs=10)\n",
        "history = model.fit(train_dataset, epochs=20, verbose=True)"
      ],
      "metadata": {
        "id": "8q-MkXo_2qxw"
      },
      "execution_count": null,
      "outputs": []
    },
    {
      "cell_type": "code",
      "source": [
        "results = model.evaluate(np.stack(test_df['text'].values), test_df['label'])\n",
        "print(results)"
      ],
      "metadata": {
        "id": "VZoHrWEfJeSR"
      },
      "execution_count": null,
      "outputs": []
    },
    {
      "cell_type": "code",
      "execution_count": null,
      "metadata": {
        "id": "J9tD9yACG6M9"
      },
      "outputs": [],
      "source": [
        "# function to predict messages based on model\n",
        "# (should return list containing prediction and label, ex. [0.008318834938108921, 'ham'])\n",
        "\n",
        "\n",
        "def to_num(word_list):\n",
        "  ret = []\n",
        "  for word in word_list:\n",
        "    if word in word2idx.keys():\n",
        "      ret.append(word2idx[word])\n",
        "    else:\n",
        "      ret.append(0)\n",
        "  return ret\n",
        "\n",
        "def predict_message(pred_text):\n",
        "  input = preprocess(pred_text)\n",
        "  nums = to_num(input)\n",
        "  nums += [0] * (MAX_LEN - len(nums))\n",
        "  nums = np.array([nums])\n",
        "  #print(nums)\n",
        "  res = model.predict(nums)\n",
        "\n",
        "  text = \"ham\"\n",
        "\n",
        "  if res[0] > 0.5:\n",
        "    text = \"spam\"\n",
        "\n",
        "  prediction = [res[0].tolist()[0], text]\n",
        "\n",
        "\n",
        "  return (prediction)\n",
        "\n",
        "pred_text = \"you have won £1000 cash! call to claim your prize.\"\n",
        "\n",
        "prediction = predict_message(pred_text)\n",
        "print(prediction)"
      ]
    },
    {
      "cell_type": "code",
      "execution_count": null,
      "metadata": {
        "id": "Dxotov85SjsC"
      },
      "outputs": [],
      "source": [
        "# Run this cell to test your function and model. Do not modify contents.\n",
        "def test_predictions():\n",
        "  test_messages = [\"how are you doing today\",\n",
        "                   \"sale today! to stop texts call 98912460324\",\n",
        "                   \"i dont want to go. can we try it a different day? available sat\",\n",
        "                   \"our new mobile video service is live. just install on your phone to start watching.\",\n",
        "                   \"you have won £1000 cash! call to claim your prize.\",\n",
        "                   \"i'll bring it tomorrow. don't forget the milk.\",\n",
        "                   \"wow, is your arm alright. that happened to me one time too\"\n",
        "                  ]\n",
        "\n",
        "  test_answers = [\"ham\", \"spam\", \"ham\", \"spam\", \"spam\", \"ham\", \"ham\"]\n",
        "  passed = True\n",
        "\n",
        "  for msg, ans in zip(test_messages, test_answers):\n",
        "    prediction = predict_message(msg)\n",
        "    if prediction[1] != ans:\n",
        "      passed = False\n",
        "\n",
        "  if passed:\n",
        "    print(\"You passed the challenge. Great job!\")\n",
        "  else:\n",
        "    print(\"You haven't passed yet. Keep trying.\")\n",
        "\n",
        "test_predictions()\n"
      ]
    }
  ],
  "metadata": {
    "colab": {
      "private_outputs": true,
      "provenance": [],
      "gpuType": "T4",
      "include_colab_link": true
    },
    "kernelspec": {
      "display_name": "Python 3",
      "name": "python3"
    },
    "language_info": {},
    "accelerator": "GPU"
  },
  "nbformat": 4,
  "nbformat_minor": 0
}